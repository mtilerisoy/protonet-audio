{
 "cells": [
  {
   "cell_type": "code",
   "execution_count": null,
   "metadata": {},
   "outputs": [
    {
     "name": "stderr",
     "output_type": "stream",
     "text": [
      "/Users/ilerisoy/anaconda3/envs/protonet/lib/python3.12/site-packages/tqdm/auto.py:21: TqdmWarning: IProgress not found. Please update jupyter and ipywidgets. See https://ipywidgets.readthedocs.io/en/stable/user_install.html\n",
      "  from .autonotebook import tqdm as notebook_tqdm\n"
     ]
    },
    {
     "data": {
      "text/plain": [
       "<torch._C.Generator at 0x118464c10>"
      ]
     },
     "execution_count": 1,
     "metadata": {},
     "output_type": "execute_result"
    }
   ],
   "source": [
    "import torch\n",
    "from torch.utils.data import DataLoader, Sampler\n",
    "from torchaudio.datasets import SPEECHCOMMANDS\n",
    "from transformers import AutoProcessor, ASTModel\n",
    "import random\n",
    "import matplotlib.pyplot as plt\n",
    "\n",
    "# Set the seed for reproducibility\n",
    "random.seed(42)\n",
    "torch.manual_seed(42)"
   ]
  },
  {
   "cell_type": "markdown",
   "metadata": {},
   "source": [
    "# Initialize the Configurations"
   ]
  },
  {
   "cell_type": "code",
   "execution_count": 2,
   "metadata": {},
   "outputs": [],
   "source": [
    "# Configuration\n",
    "device = \"cpu\"\n",
    "n_way = 2\n",
    "k_shot = 5\n",
    "q_query = 10\n",
    "episodes_per_epoch = 5\n",
    "num_epochs = 10\n",
    "sample_rate = 16000"
   ]
  },
  {
   "cell_type": "markdown",
   "metadata": {},
   "source": [
    "# Load the Data and the Model to Train"
   ]
  },
  {
   "cell_type": "code",
   "execution_count": 3,
   "metadata": {},
   "outputs": [
    {
     "name": "stderr",
     "output_type": "stream",
     "text": [
      "Using a slow image processor as `use_fast` is unset and a slow processor was saved with this model. `use_fast=True` will be the default behavior in v4.52, even if the model was saved with a slow processor. This will result in minor differences in outputs. You'll still be able to use a slow processor with `use_fast=False`.\n"
     ]
    }
   ],
   "source": [
    "# Load the dataset\n",
    "train_set = SPEECHCOMMANDS(root=\"./dataset\", download=True, subset=\"training\")\n",
    "test_set = SPEECHCOMMANDS(root=\"./dataset\", download=True, subset=\"testing\")\n",
    "\n",
    "# Initialize the Preprocessor and Model\n",
    "processor = AutoProcessor.from_pretrained(\"MIT/ast-finetuned-speech-commands-v2\", cache_dir=\"./models\")\n",
    "model = ASTModel.from_pretrained(\"MIT/ast-finetuned-speech-commands-v2\", cache_dir=\"./models\")\n",
    "model = model.to(device)"
   ]
  },
  {
   "cell_type": "markdown",
   "metadata": {},
   "source": [
    "# Dataset Preparation"
   ]
  },
  {
   "cell_type": "code",
   "execution_count": null,
   "metadata": {},
   "outputs": [],
   "source": [
    "class EpisodeSampler(Sampler):\n",
    "    \"\"\"\n",
    "    A sampler that generates episodes for few-shot learning.\n",
    "    Creates a number of tasks for each epoch based on the specified number of classes, support samples, and query samples.\n",
    "    \"\"\"\n",
    "    def __init__(self, dataset, n_way, k_shot, q_query, episodes_per_epoch):\n",
    "        self.dataset = dataset\n",
    "        self.n_way = n_way\n",
    "        self.k_shot = k_shot\n",
    "        self.q_query = q_query\n",
    "        self.episodes = episodes_per_epoch\n",
    "        self.labels = [datapoint[2] for datapoint in dataset]\n",
    "        self.classes = sorted(list(set(self.labels)))\n",
    "        self.class_to_indices = {cls: [i for i, label in enumerate(self.labels) if label == cls] \n",
    "                                  for cls in self.classes}\n",
    "\n",
    "    def __iter__(self):\n",
    "        for _ in range(self.episodes):\n",
    "            selected_classes = random.sample(self.classes, self.n_way)\n",
    "            indices = []\n",
    "            \n",
    "            # Separete the support and query indices\n",
    "            support_indices = []\n",
    "            query_indices = []\n",
    "            for cls in selected_classes:\n",
    "                samples = random.sample(self.class_to_indices[cls], self.k_shot + self.q_query)\n",
    "                support_indices.extend(samples[:self.k_shot])\n",
    "                query_indices.extend(samples[self.k_shot:])\n",
    "            \n",
    "            # Combine the indices with supports first, and then query\n",
    "            indices = support_indices + query_indices\n",
    "            yield indices\n",
    "\n",
    "    def __len__(self):\n",
    "        return self.episodes"
   ]
  },
  {
   "cell_type": "code",
   "execution_count": null,
   "metadata": {},
   "outputs": [],
   "source": [
    "def collate_fn(batch):\n",
    "    \"\"\"\n",
    "    Custom collate function that applies the specified pre-processing steps to each batch of data while creating the dataloader.\n",
    "\n",
    "    Args:\n",
    "        batch: A list of tuples containing the waveform, sample rate, and label.\n",
    "    \n",
    "    Returns:\n",
    "        spectrograms: Tensor containing the processed spectrograms.\n",
    "        remapped_labels: Tensor containing the modified labels of the batch for the generated episode.\n",
    "    \"\"\"\n",
    "\n",
    "    # Initialize lists to store waveforms and labels\n",
    "    waveforms = []\n",
    "    original_labels = []\n",
    "\n",
    "    # Separate waveforms and labels\n",
    "    for waveform, _, label, *_ in batch:\n",
    "        waveforms.append(waveform)\n",
    "        original_labels.append(label)\n",
    "    \n",
    "    # Process spectrograms using the model's own processor\n",
    "    spectrograms = []\n",
    "    for waveform in waveforms:\n",
    "        inputs = processor(waveform[0], sampling_rate=sample_rate, return_tensors=\"pt\", padding=\"max_length\", max_length=1024, truncation=True\n",
    "        )\n",
    "        \n",
    "        # Processor outputs a dict with keys: dict_keys(['input_values'])\n",
    "        spectrograms.append(inputs[\"input_values\"])\n",
    "    \n",
    "    # Convert spectrograms list to tensors\n",
    "    spectrograms = torch.cat(spectrograms)\n",
    "    spectrograms = spectrograms.permute(0, 2, 1)        # Transpose dimensions to (batch_size, num_mel_bins, num_frames)\n",
    "    spectrograms = torch.clamp(spectrograms, min=1e-7)  # add epsilon to avoid log(0)\n",
    "    \n",
    "    # Map original labels to [0, N_way-1] within an episode\n",
    "    unique_classes = sorted(list(set(original_labels)))\n",
    "    class_mapping = {cls:i for i, cls in enumerate(unique_classes)}\n",
    "    remapped_labels = [class_mapping[cls] for cls in original_labels]\n",
    "    \n",
    "    # Return the spectrograms and episode labels\n",
    "    return spectrograms, torch.tensor(remapped_labels)\n",
    "\n",
    "def euclidean_dist(x, y):\n",
    "    \"\"\"\n",
    "    Function that calculates the Euclidean distance between two tensors.\n",
    "\n",
    "    Args:\n",
    "        x: Tensor of shape (N, D) where N is the number of samples and D is the feature dimension.\n",
    "        y: Tensor of shape (M, D) where M is the number of prototypes and D is the feature dimension.\n",
    "    \n",
    "    Returns:\n",
    "        dist: Tensor of shape (N, M) containing the pairwise Euclidean distances.\n",
    "    \"\"\"\n",
    "    return torch.cdist(x, y, p=2)\n",
    "\n",
    "def prototypical_loss(prototypes, query_embeddings, query_labels):\n",
    "    \"\"\"\n",
    "    Loss function used for training the model.\n",
    "    Computes the Euclidean distance between the query embeddings and the prototypes and then applies Cross-entropy loss based on the.\n",
    "    \"\"\"\n",
    "    distances = euclidean_dist(query_embeddings, prototypes)\n",
    "    loss = torch.nn.functional.cross_entropy(-distances, query_labels)\n",
    "    return loss"
   ]
  },
  {
   "cell_type": "code",
   "execution_count": null,
   "metadata": {},
   "outputs": [],
   "source": [
    "# Create DataLoaders\n",
    "train_sampler = EpisodeSampler(train_set, n_way, k_shot, q_query, episodes_per_epoch)\n",
    "train_loader = DataLoader(\n",
    "    train_set,\n",
    "    batch_sampler=train_sampler,\n",
    "    collate_fn=collate_fn,\n",
    "    pin_memory=True,\n",
    "    num_workers=4 if device == \"cuda\" else 0\n",
    ")"
   ]
  },
  {
   "cell_type": "markdown",
   "metadata": {},
   "source": [
    "# Training Loop"
   ]
  },
  {
   "cell_type": "code",
   "execution_count": null,
   "metadata": {},
   "outputs": [
    {
     "name": "stdout",
     "output_type": "stream",
     "text": [
      "Device: cpu\n",
      "Epoch 1 | Loss: 1.5129 | Acc: 0.5300\n",
      "Epoch 2 | Loss: 0.8064 | Acc: 0.6300\n",
      "Epoch 3 | Loss: 0.6999 | Acc: 0.6300\n",
      "Epoch 4 | Loss: 0.5268 | Acc: 0.7700\n",
      "Epoch 5 | Loss: 0.5920 | Acc: 0.6900\n",
      "Epoch 6 | Loss: 0.4909 | Acc: 0.7500\n",
      "Epoch 7 | Loss: 0.4946 | Acc: 0.7700\n",
      "Epoch 8 | Loss: 0.6735 | Acc: 0.6600\n",
      "Epoch 9 | Loss: 0.4551 | Acc: 0.8000\n",
      "Epoch 10 | Loss: 0.2012 | Acc: 0.9300\n"
     ]
    }
   ],
   "source": [
    "# Training Setup\n",
    "print(f\"Device: {device}\")\n",
    "optimizer = torch.optim.Adam(model.parameters(), lr=1e-4, weight_decay=1e-5)\n",
    "model = model.to(device)\n",
    "model.train()\n",
    "\n",
    "# Initialize lists to store epoch losses and accuracies for visualization\n",
    "epoch_losses = []\n",
    "epoch_accuracies = []\n",
    "\n",
    "# Training Loop\n",
    "for epoch in range(num_epochs):\n",
    "    correct = 0\n",
    "    total = 0\n",
    "    total_loss = 0\n",
    "\n",
    "    for batch_idx, (spectrograms, labels) in enumerate(train_loader):\n",
    "        spectrograms = spectrograms.to(device)\n",
    "        labels = labels.to(device)\n",
    "        \n",
    "        # Split the batch into support and query\n",
    "        support_size = n_way * k_shot\n",
    "        support_specs = spectrograms[:support_size]\n",
    "        query_specs = spectrograms[support_size:]\n",
    "        support_labels = labels[:support_size]\n",
    "        query_labels = labels[support_size:]\n",
    "            \n",
    "        # Get the embeddings\n",
    "        support_out = model(support_specs)\n",
    "        query_out = model(query_specs)\n",
    "        support_embeds = support_out.last_hidden_state.mean(dim=1)\n",
    "        query_embeds = query_out.last_hidden_state.mean(dim=1)\n",
    "        \n",
    "        # Compute the prototypes\n",
    "        prototypes = []\n",
    "        for c in range(n_way):\n",
    "            class_mask = (support_labels == c)\n",
    "            prototypes.append(support_embeds[class_mask].mean(dim=0))\n",
    "        prototypes = torch.stack(prototypes)\n",
    "        \n",
    "        # Calculate the loss\n",
    "        distances = euclidean_dist(query_embeds, prototypes)\n",
    "        loss = torch.nn.functional.cross_entropy(-distances, query_labels)\n",
    "        \n",
    "        # Backpropagation with gradient clipping\n",
    "        optimizer.zero_grad()\n",
    "        loss.backward()\n",
    "        torch.nn.utils.clip_grad_norm_(model.parameters(), 1.0)\n",
    "        optimizer.step()\n",
    "        \n",
    "        # Accuracy calculation\n",
    "        with torch.no_grad():\n",
    "            distances = euclidean_dist(query_embeds, prototypes)\n",
    "            preds = torch.argmin(distances, dim=1)\n",
    "            correct += (preds == query_labels).sum().item()\n",
    "            total += query_labels.numel()\n",
    "        \n",
    "        total_loss += loss.item()\n",
    "    \n",
    "    # Append the average loss and accuracy for the epoch for visualization\n",
    "    epoch_losses.append(total_loss / len(train_loader))\n",
    "    epoch_accuracies.append(correct / total)\n",
    "    \n",
    "    # Print epoch loss and accuracy\n",
    "    print(f\"Epoch {epoch+1} | Loss: {total_loss/len(train_loader):.4f} | Acc: {correct/total:.4f}\")"
   ]
  },
  {
   "cell_type": "code",
   "execution_count": 8,
   "metadata": {},
   "outputs": [
    {
     "data": {
      "image/png": "[encoded data removed]",
      "text/plain": [
       "<Figure size 1200x500 with 2 Axes>"
      ]
     },
     "metadata": {},
     "output_type": "display_data"
    }
   ],
   "source": [
    "# Plotting loss\n",
    "plt.figure(figsize=(12, 5))\n",
    "plt.subplot(1, 2, 1)\n",
    "plt.plot(epoch_losses, label='Loss')\n",
    "plt.title('Training Loss')\n",
    "plt.xlabel('Epoch')\n",
    "plt.ylabel('Loss')\n",
    "plt.legend()\n",
    "\n",
    "# Plotting accuracy\n",
    "plt.subplot(1, 2, 2)\n",
    "plt.plot(epoch_accuracies, label='Accuracy')\n",
    "plt.title('Training Accuracy')\n",
    "plt.xlabel('Epoch')\n",
    "plt.ylabel('Accuracy')\n",
    "plt.legend()\n",
    "plt.show()"
   ]
  },
  {
   "cell_type": "code",
   "execution_count": 9,
   "metadata": {},
   "outputs": [],
   "source": [
    "# Save the model\n",
    "torch.save(model.state_dict(), \"models/prototypical_network_model.pth\")"
   ]
  },
  {
   "cell_type": "markdown",
   "metadata": {},
   "source": [
    "# Testing"
   ]
  },
  {
   "cell_type": "markdown",
   "metadata": {},
   "source": [
    "### Define the Testing Function"
   ]
  },
  {
   "cell_type": "code",
   "execution_count": null,
   "metadata": {},
   "outputs": [],
   "source": [
    "def evaluate(model, loader, n_way, k_shot, device):\n",
    "    \"\"\"\n",
    "    Function to evaluate the model on the test set.\n",
    "    \n",
    "    Arguments:\n",
    "        - model: model to evaluate.\n",
    "        - loader: DataLoader to evaluate the model on.\n",
    "        - n_way: number of classes in the test episode.\n",
    "        - k_shot: number of support samples per class.\n",
    "        - device: device to run the model on.\n",
    "    \n",
    "    Returns:\n",
    "        - accuracy: accuracy of the model on the test set.\n",
    "    \"\"\"\n",
    "    model.to(device)\n",
    "    model.eval()\n",
    "    total_correct = 0\n",
    "    total_samples = 0\n",
    "    \n",
    "    with torch.no_grad():\n",
    "        for batch_idx, (spectrograms, labels) in enumerate(loader):\n",
    "            print(f\"Batch {batch_idx+1}/{len(loader)}\")\n",
    "            spectrograms = spectrograms.to(device)\n",
    "            labels = labels.to(device)\n",
    "            \n",
    "            support_size = n_way * k_shot\n",
    "            support_specs = spectrograms[:support_size]\n",
    "            query_specs = spectrograms[support_size:]\n",
    "            support_labels = labels[:support_size]\n",
    "            query_labels = labels[support_size:]\n",
    "            \n",
    "            # Get embeddings\n",
    "            support_embeds = model(support_specs).last_hidden_state.mean(dim=1)\n",
    "            query_embeds = model(query_specs).last_hidden_state.mean(dim=1)\n",
    "            \n",
    "            # Compute prototypes\n",
    "            prototypes = []\n",
    "            for c in range(n_way):\n",
    "                class_mask = (support_labels == c)\n",
    "                prototypes.append(support_embeds[class_mask].mean(dim=0))\n",
    "            prototypes = torch.stack(prototypes)\n",
    "            \n",
    "            # Calculate accuracy\n",
    "            distances = euclidean_dist(query_embeds, prototypes)\n",
    "            preds = torch.argmin(distances, dim=1)\n",
    "            correct = (preds == query_labels).sum().item()\n",
    "            \n",
    "            total_correct += correct\n",
    "            total_samples += query_labels.size(0)\n",
    "    \n",
    "    accuracy = total_correct / total_samples\n",
    "    print(f\"Test Accuracy ({n_way}-way {k_shot}-shot): {accuracy:.4f}\")\n",
    "    return accuracy"
   ]
  },
  {
   "cell_type": "markdown",
   "metadata": {},
   "source": [
    "## Initialize Models to Test"
   ]
  },
  {
   "cell_type": "code",
   "execution_count": 11,
   "metadata": {},
   "outputs": [],
   "source": [
    "# Load the raw and trained models\n",
    "model_trained = ASTModel.from_pretrained(\"MIT/ast-finetuned-speech-commands-v2\")\n",
    "model_trained.load_state_dict(torch.load(\"models/prototypical_network_model.pth\"))\n",
    "model_raw = ASTModel.from_pretrained(\"MIT/ast-finetuned-speech-commands-v2\")"
   ]
  },
  {
   "cell_type": "markdown",
   "metadata": {},
   "source": [
    "## Testing Setup"
   ]
  },
  {
   "cell_type": "code",
   "execution_count": 12,
   "metadata": {},
   "outputs": [],
   "source": [
    "# Add these configurations at the top with other parameters\n",
    "test_episodes = 50\n",
    "test_n_way = 5\n",
    "test_k_shot = 5\n",
    "test_q_query = 15\n",
    "\n",
    "# Create test sampler and loader\n",
    "test_sampler = EpisodeSampler(\n",
    "    test_set,\n",
    "    n_way=test_n_way,\n",
    "    k_shot=test_k_shot,\n",
    "    q_query=test_q_query,\n",
    "    episodes_per_epoch=test_episodes\n",
    ")\n",
    "\n",
    "test_loader = DataLoader(\n",
    "    test_set,\n",
    "    batch_sampler=test_sampler,\n",
    "    collate_fn=collate_fn,\n",
    "    pin_memory=True,\n",
    "    num_workers=0\n",
    ")"
   ]
  },
  {
   "cell_type": "code",
   "execution_count": 13,
   "metadata": {},
   "outputs": [
    {
     "name": "stdout",
     "output_type": "stream",
     "text": [
      "Batch 1/50\n",
      "Batch 2/50\n",
      "Batch 3/50\n",
      "Batch 4/50\n",
      "Batch 5/50\n",
      "Batch 6/50\n",
      "Batch 7/50\n",
      "Batch 8/50\n",
      "Batch 9/50\n",
      "Batch 10/50\n",
      "Batch 11/50\n",
      "Batch 12/50\n",
      "Batch 13/50\n",
      "Batch 14/50\n",
      "Batch 15/50\n",
      "Batch 16/50\n",
      "Batch 17/50\n",
      "Batch 18/50\n",
      "Batch 19/50\n",
      "Batch 20/50\n",
      "Batch 21/50\n",
      "Batch 22/50\n",
      "Batch 23/50\n",
      "Batch 24/50\n",
      "Batch 25/50\n",
      "Batch 26/50\n",
      "Batch 27/50\n",
      "Batch 28/50\n",
      "Batch 29/50\n",
      "Batch 30/50\n",
      "Batch 31/50\n",
      "Batch 32/50\n",
      "Batch 33/50\n",
      "Batch 34/50\n",
      "Batch 35/50\n",
      "Batch 36/50\n",
      "Batch 37/50\n",
      "Batch 38/50\n",
      "Batch 39/50\n",
      "Batch 40/50\n",
      "Batch 41/50\n",
      "Batch 42/50\n",
      "Batch 43/50\n",
      "Batch 44/50\n",
      "Batch 45/50\n",
      "Batch 46/50\n",
      "Batch 47/50\n",
      "Batch 48/50\n",
      "Batch 49/50\n",
      "Batch 50/50\n",
      "Test Accuracy (5-way 5-shot): 0.6867\n"
     ]
    }
   ],
   "source": [
    "# Test the trained model\n",
    "test_acc = evaluate(model_trained, test_loader, test_n_way, test_k_shot, device)"
   ]
  },
  {
   "cell_type": "code",
   "execution_count": 14,
   "metadata": {},
   "outputs": [
    {
     "name": "stdout",
     "output_type": "stream",
     "text": [
      "Batch 1/50\n",
      "Batch 2/50\n",
      "Batch 3/50\n",
      "Batch 4/50\n",
      "Batch 5/50\n",
      "Batch 6/50\n",
      "Batch 7/50\n",
      "Batch 8/50\n",
      "Batch 9/50\n",
      "Batch 10/50\n",
      "Batch 11/50\n",
      "Batch 12/50\n",
      "Batch 13/50\n",
      "Batch 14/50\n",
      "Batch 15/50\n",
      "Batch 16/50\n",
      "Batch 17/50\n",
      "Batch 18/50\n",
      "Batch 19/50\n",
      "Batch 20/50\n",
      "Batch 21/50\n",
      "Batch 22/50\n",
      "Batch 23/50\n",
      "Batch 24/50\n",
      "Batch 25/50\n",
      "Batch 26/50\n",
      "Batch 27/50\n",
      "Batch 28/50\n",
      "Batch 29/50\n",
      "Batch 30/50\n",
      "Batch 31/50\n",
      "Batch 32/50\n",
      "Batch 33/50\n",
      "Batch 34/50\n",
      "Batch 35/50\n",
      "Batch 36/50\n",
      "Batch 37/50\n",
      "Batch 38/50\n",
      "Batch 39/50\n",
      "Batch 40/50\n",
      "Batch 41/50\n",
      "Batch 42/50\n",
      "Batch 43/50\n",
      "Batch 44/50\n",
      "Batch 45/50\n",
      "Batch 46/50\n",
      "Batch 47/50\n",
      "Batch 48/50\n",
      "Batch 49/50\n",
      "Batch 50/50\n",
      "Test Accuracy (5-way 5-shot): 0.3072\n"
     ]
    }
   ],
   "source": [
    "# Test the original model\n",
    "test_acc = evaluate(model_raw, test_loader, test_n_way, test_k_shot, device)"
   ]
  },
  {
   "cell_type": "markdown",
   "metadata": {},
   "source": [
    "# Results"
   ]
  },
  {
   "cell_type": "markdown",
   "metadata": {},
   "source": [
    "Test Accuracy (5-way 5-shot): 0.3072\n",
    "\n",
    "Test Accuracy (5-way 5-shot): 0.6867"
   ]
  }
 ],
 "metadata": {
  "kernelspec": {
   "display_name": "protonet",
   "language": "python",
   "name": "python3"
  },
  "language_info": {
   "codemirror_mode": {
    "name": "ipython",
    "version": 3
   },
   "file_extension": ".py",
   "mimetype": "text/x-python",
   "name": "python",
   "nbconvert_exporter": "python",
   "pygments_lexer": "ipython3",
   "version": "3.12.2"
  }
 },
 "nbformat": 4,
 "nbformat_minor": 2
}
